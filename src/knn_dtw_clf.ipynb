{
 "cells": [
  {
   "cell_type": "code",
   "execution_count": 1,
   "metadata": {},
   "outputs": [],
   "source": [
    "import dtwco\n",
    "from sklearn.neighbors import KNeighborsClassifier"
   ]
  },
  {
   "cell_type": "code",
   "execution_count": 2,
   "metadata": {},
   "outputs": [],
   "source": [
    "class KnnDtw:\n",
    "    def __init__(self, n_neighbors=5, dtw_constraint=None):\n",
    "        self.clf = self.construct_knn_classifier(n_neighbors=n_neighbors, dtw_constraint=dtw_constraint)\n",
    "    \n",
    "    def construct_knn_classifier(self, n_neighbors=5, dtw_constraint=None):\n",
    "        \"\"\"\n",
    "        Constructs the kNN Regressor under a DTW metric\n",
    "        \"\"\"\n",
    "        dtw_metric = lambda x, y: dtwco.dtw(x, y, metric='euclidean', constraint=dtw_constraint, dist_only=True)\n",
    "        clf = KNeighborsClassifier(n_neighbors=5, metric=dtw_metric, n_jobs=1)\n",
    "        return clf\n",
    "    \n",
    "    def fit(self, X, y):\n",
    "        \"\"\"\n",
    "        Fit the model using X as training data and y as target values\n",
    "        \"\"\"\n",
    "        self.clf.fit(X, y)\n",
    "\n",
    "    def predict(self, X):\n",
    "        \"\"\"\n",
    "        Predict the class labels for the provided data\n",
    "        \"\"\"\n",
    "        return self.clf.predict(X)"
   ]
  }
 ],
 "metadata": {
  "kernelspec": {
   "display_name": "Python 3",
   "language": "python",
   "name": "python3"
  },
  "language_info": {
   "codemirror_mode": {
    "name": "ipython",
    "version": 3
   },
   "file_extension": ".py",
   "mimetype": "text/x-python",
   "name": "python",
   "nbconvert_exporter": "python",
   "pygments_lexer": "ipython3",
   "version": "3.5.2"
  }
 },
 "nbformat": 4,
 "nbformat_minor": 2
}
